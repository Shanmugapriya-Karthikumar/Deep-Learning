{
  "nbformat": 4,
  "nbformat_minor": 0,
  "metadata": {
    "colab": {
      "provenance": [],
      "gpuType": "T4",
      "authorship_tag": "ABX9TyMGBTiJKzWgXWLY0GYwYsbb",
      "include_colab_link": true
    },
    "kernelspec": {
      "name": "python3",
      "display_name": "Python 3"
    },
    "language_info": {
      "name": "python"
    },
    "accelerator": "GPU"
  },
  "cells": [
    {
      "cell_type": "markdown",
      "metadata": {
        "id": "view-in-github",
        "colab_type": "text"
      },
      "source": [
        "<a href=\"https://colab.research.google.com/github/Shanmugapriya-Karthikumar/Deep-Learning/blob/main/Copy_of_XOR_Challenge_Deep_Learning_Nonlinear_Problem.ipynb\" target=\"_parent\"><img src=\"https://colab.research.google.com/assets/colab-badge.svg\" alt=\"Open In Colab\"/></a>"
      ]
    },
    {
      "cell_type": "code",
      "execution_count": 1,
      "metadata": {
        "id": "4vU-a6dKrmn6"
      },
      "outputs": [],
      "source": [
        "import numpy as np\n",
        "import tensorflow as tf"
      ]
    },
    {
      "cell_type": "code",
      "source": [
        "from tensorflow.keras.models import Sequential\n",
        "from tensorflow.keras.layers import Dense"
      ],
      "metadata": {
        "id": "JDghKuM_tcC1"
      },
      "execution_count": 2,
      "outputs": []
    },
    {
      "cell_type": "code",
      "source": [
        "np.random.seed(7)\n",
        "tf.random.set_seed(7)\n",
        "x = np.array([[0,0],[0,1],[1,0],[1,1]], dtype=np.float32)\n",
        "y = np.array([[0],[1],[1],[0]], dtype=np.float32)"
      ],
      "metadata": {
        "id": "C_Ikv898uOxm"
      },
      "execution_count": 3,
      "outputs": []
    },
    {
      "cell_type": "code",
      "source": [
        "model = Sequential()"
      ],
      "metadata": {
        "id": "THHNQC32ular"
      },
      "execution_count": 4,
      "outputs": []
    },
    {
      "cell_type": "code",
      "source": [
        "model = Sequential()\n",
        "model.add(Dense(4,input_dim=2,activation='relu'))\n",
        "model.add(Dense(1,activation='sigmoid'))\n",
        "model.compile(optimizer=tf.keras.optimizers.Adam(learning_rate=0.01),\n",
        "              loss='binary_crossentropy',\n",
        "              metrics=['accuracy'])\n",
        "class StopOnPerfectAcc(tf.keras.callbacks.Callback):\n",
        "    def on_epoch_end(self, epoch, logs=None):\n",
        "        if logs and logs.get('accuracy', 0) >= 0.999:\n",
        "            self.model.stop_training = True"
      ],
      "metadata": {
        "id": "NTTJZbAwupMR",
        "colab": {
          "base_uri": "https://localhost:8080/"
        },
        "outputId": "acbf6a84-6673-4c8d-813f-716b4b5d451d"
      },
      "execution_count": 5,
      "outputs": [
        {
          "output_type": "stream",
          "name": "stderr",
          "text": [
            "/usr/local/lib/python3.11/dist-packages/keras/src/layers/core/dense.py:93: UserWarning: Do not pass an `input_shape`/`input_dim` argument to a layer. When using Sequential models, prefer using an `Input(shape)` object as the first layer in the model instead.\n",
            "  super().__init__(activity_regularizer=activity_regularizer, **kwargs)\n"
          ]
        }
      ]
    },
    {
      "cell_type": "code",
      "source": [
        "model.fit(x, y, epochs=5000, batch_size=4, verbose=0, callbacks=[StopOnPerfectAcc()])\n",
        "loss, accuracy = model.evaluate(x, y, verbose=0)\n",
        "probs = model.predict(x, verbose=0)\n",
        "preds = (probs >= 0.5).astype(int)\n",
        "print(\"Predictions:\")\n",
        "for i in range(len(x)):\n",
        "    print(f\"Input: {x[i]}, Predicted: {preds[i][0]}, Prob: {probs[i][0]:.3f}, Actual: {int(y[i][0])}\")\n",
        "assert preds[2][0] == 1, f\"Third prediction incorrect: got {preds[2][0]}\""
      ],
      "metadata": {
        "colab": {
          "base_uri": "https://localhost:8080/"
        },
        "id": "-cY3X-mMv6wL",
        "outputId": "33dd2464-671c-416a-ac15-38c15c0d1763"
      },
      "execution_count": 7,
      "outputs": [
        {
          "output_type": "stream",
          "name": "stdout",
          "text": [
            "Predictions:\n",
            "Input: [0. 0.], Predicted: 0, Prob: 0.445, Actual: 0\n",
            "Input: [0. 1.], Predicted: 1, Prob: 0.670, Actual: 1\n",
            "Input: [1. 0.], Predicted: 1, Prob: 0.505, Actual: 1\n",
            "Input: [1. 1.], Predicted: 0, Prob: 0.448, Actual: 0\n"
          ]
        }
      ]
    }
  ]
}